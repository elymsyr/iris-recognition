{
 "cells": [
  {
   "cell_type": "code",
   "execution_count": 4,
   "metadata": {},
   "outputs": [],
   "source": [
    "import cv2\n",
    "import numpy as np"
   ]
  },
  {
   "cell_type": "code",
   "execution_count": 10,
   "metadata": {},
   "outputs": [],
   "source": [
    "def is_blurry(image_path, threshold=100.0):\n",
    "    image = cv2.imread(image_path, cv2.IMREAD_GRAYSCALE)\n",
    "    return cv2.Laplacian(image, cv2.CV_64F).var()"
   ]
  },
  {
   "cell_type": "code",
   "execution_count": 13,
   "metadata": {},
   "outputs": [
    {
     "name": "stdout",
     "output_type": "stream",
     "text": [
      "34.64242146376503\n",
      "48.0886285803477\n",
      "17.13150784376992\n",
      "12.286074912505677\n",
      "7.304367317030163\n",
      "3.463232924048106\n"
     ]
    }
   ],
   "source": [
    "print(is_blurry('../IrisDB/CASIA-Iris-Syn/001/S6001S06.jpg'))\n",
    "print(is_blurry('../IrisDB/CASIA-Iris-Syn/001/S6001S04.jpg'))\n",
    "print(is_blurry('../IrisDB/CASIA-Iris-Syn/001/S6001S05.jpg'))\n",
    "print(is_blurry('../IrisDB/CASIA-Iris-Syn/001/S6001S09.jpg'))\n",
    "print(is_blurry('../IrisDB/CASIA-Iris-Syn/001/S6001S00.jpg'))\n",
    "print(is_blurry('../IrisDB/CASIA-Iris-Syn/001/S6001S07.jpg'))"
   ]
  }
 ],
 "metadata": {
  "kernelspec": {
   "display_name": "iris",
   "language": "python",
   "name": "python3"
  },
  "language_info": {
   "codemirror_mode": {
    "name": "ipython",
    "version": 3
   },
   "file_extension": ".py",
   "mimetype": "text/x-python",
   "name": "python",
   "nbconvert_exporter": "python",
   "pygments_lexer": "ipython3",
   "version": "3.9.19"
  }
 },
 "nbformat": 4,
 "nbformat_minor": 2
}
