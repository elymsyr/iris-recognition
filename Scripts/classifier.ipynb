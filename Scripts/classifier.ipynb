{
 "cells": [
  {
   "cell_type": "code",
   "execution_count": 2,
   "metadata": {},
   "outputs": [],
   "source": [
    "import pandas as pd\n",
    "from sklearn.ensemble import RandomForestClassifier\n",
    "from sklearn.model_selection import train_test_split\n",
    "import pandas as pd\n",
    "from sklearn import metrics "
   ]
  },
  {
   "cell_type": "code",
   "execution_count": 3,
   "metadata": {},
   "outputs": [
    {
     "data": {
      "text/html": [
       "<div>\n",
       "<style scoped>\n",
       "    .dataframe tbody tr th:only-of-type {\n",
       "        vertical-align: middle;\n",
       "    }\n",
       "\n",
       "    .dataframe tbody tr th {\n",
       "        vertical-align: top;\n",
       "    }\n",
       "\n",
       "    .dataframe thead th {\n",
       "        text-align: right;\n",
       "    }\n",
       "</style>\n",
       "<table border=\"1\" class=\"dataframe\">\n",
       "  <thead>\n",
       "    <tr style=\"text-align: right;\">\n",
       "      <th></th>\n",
       "      <th>match</th>\n",
       "      <th>image_tag</th>\n",
       "      <th>pos</th>\n",
       "      <th>point_x</th>\n",
       "      <th>point_y</th>\n",
       "      <th>size</th>\n",
       "      <th>angle</th>\n",
       "      <th>response</th>\n",
       "      <th>octave</th>\n",
       "    </tr>\n",
       "  </thead>\n",
       "  <tbody>\n",
       "    <tr>\n",
       "      <th>0</th>\n",
       "      <td>0</td>\n",
       "      <td>S6626S03</td>\n",
       "      <td>right-side</td>\n",
       "      <td>48</td>\n",
       "      <td>147</td>\n",
       "      <td>31.000000</td>\n",
       "      <td>306.542664</td>\n",
       "      <td>0.000440</td>\n",
       "      <td>0</td>\n",
       "    </tr>\n",
       "    <tr>\n",
       "      <th>1</th>\n",
       "      <td>0</td>\n",
       "      <td>S6278S04</td>\n",
       "      <td>right-side</td>\n",
       "      <td>58</td>\n",
       "      <td>69</td>\n",
       "      <td>31.000000</td>\n",
       "      <td>311.590851</td>\n",
       "      <td>0.000078</td>\n",
       "      <td>0</td>\n",
       "    </tr>\n",
       "    <tr>\n",
       "      <th>2</th>\n",
       "      <td>0</td>\n",
       "      <td>S6626S03</td>\n",
       "      <td>right-side</td>\n",
       "      <td>43</td>\n",
       "      <td>146</td>\n",
       "      <td>37.200001</td>\n",
       "      <td>334.363556</td>\n",
       "      <td>0.000881</td>\n",
       "      <td>1</td>\n",
       "    </tr>\n",
       "    <tr>\n",
       "      <th>3</th>\n",
       "      <td>0</td>\n",
       "      <td>S6278S04</td>\n",
       "      <td>right-side</td>\n",
       "      <td>47</td>\n",
       "      <td>59</td>\n",
       "      <td>44.640003</td>\n",
       "      <td>19.241217</td>\n",
       "      <td>0.000496</td>\n",
       "      <td>2</td>\n",
       "    </tr>\n",
       "    <tr>\n",
       "      <th>4</th>\n",
       "      <td>0</td>\n",
       "      <td>S6626S03</td>\n",
       "      <td>right-side</td>\n",
       "      <td>45</td>\n",
       "      <td>139</td>\n",
       "      <td>37.200001</td>\n",
       "      <td>355.814758</td>\n",
       "      <td>0.001043</td>\n",
       "      <td>1</td>\n",
       "    </tr>\n",
       "  </tbody>\n",
       "</table>\n",
       "</div>"
      ],
      "text/plain": [
       "   match image_tag         pos  point_x  point_y       size       angle  \\\n",
       "0      0  S6626S03  right-side       48      147  31.000000  306.542664   \n",
       "1      0  S6278S04  right-side       58       69  31.000000  311.590851   \n",
       "2      0  S6626S03  right-side       43      146  37.200001  334.363556   \n",
       "3      0  S6278S04  right-side       47       59  44.640003   19.241217   \n",
       "4      0  S6626S03  right-side       45      139  37.200001  355.814758   \n",
       "\n",
       "   response  octave  \n",
       "0  0.000440       0  \n",
       "1  0.000078       0  \n",
       "2  0.000881       1  \n",
       "3  0.000496       2  \n",
       "4  0.001043       1  "
      ]
     },
     "execution_count": 3,
     "metadata": {},
     "output_type": "execute_result"
    }
   ],
   "source": [
    "df = pd.read_csv('kp_classify.csv')\n",
    "df.head()"
   ]
  },
  {
   "cell_type": "code",
   "execution_count": 4,
   "metadata": {},
   "outputs": [
    {
     "name": "stdout",
     "output_type": "stream",
     "text": [
      "0    0\n",
      "1    0\n",
      "Name: match, dtype: int64\n",
      "   pos  point_x  point_y  size       angle  response  octave\n",
      "0    0       48      147  31.0  306.542664  0.000440       0\n",
      "1    0       58       69  31.0  311.590851  0.000078       0\n"
     ]
    }
   ],
   "source": [
    "# dividing the datasets into two parts i.e. training datasets and test datasets\n",
    "mapping = {'right-side': 0, 'left-side': 1, 'bottom': 2, 'complete': 3}\n",
    "df['pos'] = df['pos'].map(mapping)\n",
    "\n",
    "y = df['match']\n",
    "X = df.drop(labels=['match', 'image_tag'], axis=1)\n",
    "\n",
    "\n",
    "print(y[:2])\n",
    "print(X[:2])"
   ]
  },
  {
   "cell_type": "code",
   "execution_count": 5,
   "metadata": {},
   "outputs": [],
   "source": [
    "X_train, X_test, y_train, y_test = train_test_split(X, y, test_size = 0.15)"
   ]
  },
  {
   "cell_type": "code",
   "execution_count": 6,
   "metadata": {},
   "outputs": [],
   "source": [
    "def calculate_accuracy(X_train, X_test, y_train, y_test, parameters = {'n_estimators': 100,\n",
    "                                     'max_depth': None,\n",
    "                                     'max_features': 'sqrt',\n",
    "                                     'criterion': 'gini',\n",
    "                                     'bootstrap': True,\n",
    "                                     'class_weight' : \"balanced\",\n",
    "                                     'max_samples': None\n",
    "                                     }):\n",
    "    clf = RandomForestClassifier(n_estimators = 100)\n",
    "    clf.fit(X_train, y_train)\n",
    "    y_pred = clf.predict(X_test) \n",
    "\n",
    "    # using metrics module for accuracy calculation\n",
    "    accuracy = metrics.accuracy_score(y_test, y_pred)\n",
    "    feature_imp = pd.Series(clf.feature_importances_, index = X.keys()).sort_values(ascending = False)\n",
    "    return accuracy, feature_imp, clf"
   ]
  },
  {
   "cell_type": "code",
   "execution_count": 7,
   "metadata": {},
   "outputs": [],
   "source": [
    "param_grid = {\n",
    "    'n_estimators': [100, 300, 500],\n",
    "    'max_depth': [5, 15, None],\n",
    "    'criterion': ['gini', 'entropy', 'log_loss'],\n",
    "    'min_samples_split': [2, 4],\n",
    "    'min_samples_leaf': [1, 2],\n",
    "    'max_features': ['sqrt', 'log2', None],\n",
    "    'bootstrap': [True, False],\n",
    "    'class_weight': ['balanced', 'balanced_subsample'],\n",
    "    'max_samples': [None]\n",
    "}"
   ]
  },
  {
   "cell_type": "code",
   "execution_count": 11,
   "metadata": {},
   "outputs": [
    {
     "name": "stdout",
     "output_type": "stream",
     "text": [
      "Test 100 + None + balanced (0.8931414979021441, angle       0.307566\n",
      "response    0.303744\n",
      "point_y     0.182852\n",
      "point_x     0.175783\n",
      "pos         0.012423\n",
      "octave      0.008936\n",
      "size        0.008695\n",
      "dtype: float64)\n",
      "Test 200 + None + balanced (0.8932901648551324, angle       0.306026\n",
      "response    0.303534\n",
      "point_y     0.182346\n",
      "point_x     0.176554\n",
      "pos         0.012745\n",
      "size        0.009415\n",
      "octave      0.009380\n",
      "dtype: float64)\n",
      "Test 300 + None + balanced (0.8932571277544683, angle       0.307778\n",
      "response    0.304208\n",
      "point_y     0.183348\n",
      "point_x     0.176720\n",
      "pos         0.012288\n",
      "size        0.007853\n",
      "octave      0.007805\n",
      "dtype: float64)\n"
     ]
    }
   ],
   "source": [
    "for n_estimators in [200]:\n",
    "    for max_depth in [None]:\n",
    "        for class_weight in ['balanced']:\n",
    "            parameters = {'n_estimators': n_estimators,'max_depth': max_depth,'class_weight' : class_weight}\n",
    "            print(f\"Test {n_estimators} + {max_depth} + {class_weight}\", calculate_accuracy(X_train, X_test, y_train, y_test, parameters))"
   ]
  }
 ],
 "metadata": {
  "kernelspec": {
   "display_name": "iris",
   "language": "python",
   "name": "python3"
  },
  "language_info": {
   "codemirror_mode": {
    "name": "ipython",
    "version": 3
   },
   "file_extension": ".py",
   "mimetype": "text/x-python",
   "name": "python",
   "nbconvert_exporter": "python",
   "pygments_lexer": "ipython3",
   "version": "3.9.19"
  }
 },
 "nbformat": 4,
 "nbformat_minor": 2
}
