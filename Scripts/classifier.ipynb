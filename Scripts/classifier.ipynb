{
 "cells": [
  {
   "cell_type": "code",
   "execution_count": 1,
   "metadata": {},
   "outputs": [],
   "source": [
    "import pandas as pd\n",
    "from sklearn.ensemble import RandomForestClassifier\n",
    "from sklearn.model_selection import train_test_split\n",
    "import pandas as pd\n",
    "from sklearn import metrics\n",
    "import xgboost as xgb\n",
    "from sklearn.model_selection import train_test_split\n",
    "from sklearn.metrics import accuracy_score, roc_auc_score\n",
    "import matplotlib.pyplot as plt\n",
    "from xgboost import plot_importance\n",
    "from sklearn.preprocessing import MinMaxScaler"
   ]
  },
  {
   "cell_type": "code",
   "execution_count": 2,
   "metadata": {},
   "outputs": [
    {
     "data": {
      "text/html": [
       "<div>\n",
       "<style scoped>\n",
       "    .dataframe tbody tr th:only-of-type {\n",
       "        vertical-align: middle;\n",
       "    }\n",
       "\n",
       "    .dataframe tbody tr th {\n",
       "        vertical-align: top;\n",
       "    }\n",
       "\n",
       "    .dataframe thead th {\n",
       "        text-align: right;\n",
       "    }\n",
       "</style>\n",
       "<table border=\"1\" class=\"dataframe\">\n",
       "  <thead>\n",
       "    <tr style=\"text-align: right;\">\n",
       "      <th></th>\n",
       "      <th>match</th>\n",
       "      <th>image_tag</th>\n",
       "      <th>pos</th>\n",
       "      <th>point_x</th>\n",
       "      <th>point_y</th>\n",
       "      <th>size</th>\n",
       "      <th>angle</th>\n",
       "      <th>response</th>\n",
       "      <th>octave</th>\n",
       "      <th>blur</th>\n",
       "    </tr>\n",
       "  </thead>\n",
       "  <tbody>\n",
       "    <tr>\n",
       "      <th>0</th>\n",
       "      <td>0</td>\n",
       "      <td>S6722S03</td>\n",
       "      <td>right-side</td>\n",
       "      <td>45</td>\n",
       "      <td>111</td>\n",
       "      <td>31.000000</td>\n",
       "      <td>28.460091</td>\n",
       "      <td>0.000393</td>\n",
       "      <td>0</td>\n",
       "      <td>11.132859</td>\n",
       "    </tr>\n",
       "    <tr>\n",
       "      <th>1</th>\n",
       "      <td>0</td>\n",
       "      <td>S6735S09</td>\n",
       "      <td>right-side</td>\n",
       "      <td>53</td>\n",
       "      <td>118</td>\n",
       "      <td>44.640003</td>\n",
       "      <td>8.228042</td>\n",
       "      <td>0.000368</td>\n",
       "      <td>2</td>\n",
       "      <td>19.968516</td>\n",
       "    </tr>\n",
       "    <tr>\n",
       "      <th>2</th>\n",
       "      <td>0</td>\n",
       "      <td>S6722S03</td>\n",
       "      <td>left-side</td>\n",
       "      <td>46</td>\n",
       "      <td>131</td>\n",
       "      <td>44.640003</td>\n",
       "      <td>169.835007</td>\n",
       "      <td>0.000731</td>\n",
       "      <td>2</td>\n",
       "      <td>11.132859</td>\n",
       "    </tr>\n",
       "    <tr>\n",
       "      <th>3</th>\n",
       "      <td>0</td>\n",
       "      <td>S6735S09</td>\n",
       "      <td>left-side</td>\n",
       "      <td>42</td>\n",
       "      <td>75</td>\n",
       "      <td>37.200001</td>\n",
       "      <td>2.890326</td>\n",
       "      <td>0.000027</td>\n",
       "      <td>1</td>\n",
       "      <td>19.968516</td>\n",
       "    </tr>\n",
       "    <tr>\n",
       "      <th>4</th>\n",
       "      <td>0</td>\n",
       "      <td>S6722S03</td>\n",
       "      <td>left-side</td>\n",
       "      <td>32</td>\n",
       "      <td>74</td>\n",
       "      <td>31.000000</td>\n",
       "      <td>215.737335</td>\n",
       "      <td>0.000347</td>\n",
       "      <td>0</td>\n",
       "      <td>11.132859</td>\n",
       "    </tr>\n",
       "  </tbody>\n",
       "</table>\n",
       "</div>"
      ],
      "text/plain": [
       "   match image_tag         pos  point_x  point_y       size       angle  \\\n",
       "0      0  S6722S03  right-side       45      111  31.000000   28.460091   \n",
       "1      0  S6735S09  right-side       53      118  44.640003    8.228042   \n",
       "2      0  S6722S03   left-side       46      131  44.640003  169.835007   \n",
       "3      0  S6735S09   left-side       42       75  37.200001    2.890326   \n",
       "4      0  S6722S03   left-side       32       74  31.000000  215.737335   \n",
       "\n",
       "   response  octave       blur  \n",
       "0  0.000393       0  11.132859  \n",
       "1  0.000368       2  19.968516  \n",
       "2  0.000731       2  11.132859  \n",
       "3  0.000027       1  19.968516  \n",
       "4  0.000347       0  11.132859  "
      ]
     },
     "execution_count": 2,
     "metadata": {},
     "output_type": "execute_result"
    }
   ],
   "source": [
    "df = pd.read_csv('../Database/kp_classify_blur.csv')\n",
    "df.head()"
   ]
  },
  {
   "cell_type": "code",
   "execution_count": 3,
   "metadata": {},
   "outputs": [
    {
     "name": "stdout",
     "output_type": "stream",
     "text": [
      "        pos  point_x  point_y       size       angle  response  octave  \\\n",
      "0         2       77       52  31.000000  211.736313  0.005257       0   \n",
      "1         0       45       74  31.000000  295.463562  0.000104       0   \n",
      "2         3      122      162  31.000000   78.733017  0.000667       0   \n",
      "3         0       71      135  31.000000  148.699371  0.000192       0   \n",
      "4         2       97       61  31.000000   92.807922  0.000259       0   \n",
      "...     ...      ...      ...        ...         ...       ...     ...   \n",
      "649995    2      112       55  37.200001   96.287933  0.001798       1   \n",
      "649996    2      138       56  31.000000   25.741657  0.001881       0   \n",
      "649997    2       84       51  44.640003  124.883850  0.001365       2   \n",
      "649998    3      125      192  31.000000  100.930305  0.002873       0   \n",
      "649999    3       75      100  37.200001  217.164230  0.000652       1   \n",
      "\n",
      "              blur  \n",
      "0        20.372345  \n",
      "1         8.541138  \n",
      "2        16.364299  \n",
      "3        10.694818  \n",
      "4        17.442468  \n",
      "...            ...  \n",
      "649995   20.737518  \n",
      "649996    7.992015  \n",
      "649997   15.539106  \n",
      "649998  262.464310  \n",
      "649999   18.768413  \n",
      "\n",
      "[650000 rows x 8 columns]\n",
      "0    0\n",
      "1    1\n",
      "Name: match, dtype: int64\n",
      "   pos  point_x  point_y  size       angle  response  octave       blur\n",
      "0    2       77       52  31.0  211.736313  0.005257       0  20.372345\n",
      "1    0       45       74  31.0  295.463562  0.000104       0   8.541138\n"
     ]
    }
   ],
   "source": [
    "# dividing the datasets into two parts i.e. training datasets and test datasets\n",
    "mapping = {'right-side': 0, 'left-side': 1, 'bottom': 2, 'complete': 3}\n",
    "df['pos'] = df['pos'].map(mapping)\n",
    "\n",
    "df = df.sample(n=650000, random_state=42).reset_index(drop=True)\n",
    "# df = df.drop(['angle', 'response', 'octave'], axis=1)\n",
    "\n",
    "y = df['match']\n",
    "X = df.drop(labels=['match', 'image_tag'], axis=1)\n",
    "\n",
    "print(X)\n",
    "\n",
    "print(y[:2])\n",
    "print(X[:2])"
   ]
  },
  {
   "cell_type": "code",
   "execution_count": 4,
   "metadata": {},
   "outputs": [],
   "source": [
    "X_train, X_test, y_train, y_test = train_test_split(X, y, test_size = 0.15)"
   ]
  },
  {
   "cell_type": "code",
   "execution_count": 5,
   "metadata": {},
   "outputs": [],
   "source": [
    "def RandomForest(X_train, X_test, y_train, y_test, parameters = {'n_estimators': 100,\n",
    "                                     'max_depth': None,\n",
    "                                     'max_features': 'sqrt',\n",
    "                                     'criterion': 'gini',\n",
    "                                     'bootstrap': True,\n",
    "                                     'class_weight' : \"balanced\",\n",
    "                                     'max_samples': None\n",
    "                                     }):\n",
    "    clf = RandomForestClassifier(n_estimators = 100)\n",
    "    clf.fit(X_train, y_train)\n",
    "    y_pred = clf.predict(X_test) \n",
    "\n",
    "    # using metrics module for accuracy calculation\n",
    "    accuracy = metrics.accuracy_score(y_test, y_pred)\n",
    "    feature_imp = pd.Series(clf.feature_importances_, index = X.keys()).sort_values(ascending = False)\n",
    "    return accuracy, feature_imp, clf"
   ]
  },
  {
   "cell_type": "code",
   "execution_count": 7,
   "metadata": {},
   "outputs": [],
   "source": [
    "def XGBoost(X_train, X_test, y_train, y_test, model_path='xgboost_model.json'):\n",
    "    # Initialize MinMaxScaler\n",
    "    scaler = MinMaxScaler(feature_range=(0,1))\n",
    "\n",
    "    # Fit and transform the training data, transform the test data\n",
    "    X_train_scaled = scaler.fit_transform(X_train)\n",
    "    X_test_scaled = scaler.transform(X_test)\n",
    "\n",
    "    # Convert scaled data to DMatrix format (optimized for XGBoost)\n",
    "    dtrain = xgb.DMatrix(X_train_scaled, label=y_train)\n",
    "    dtest = xgb.DMatrix(X_test_scaled, label=y_test)\n",
    "\n",
    "    # Set XGBoost parameters\n",
    "    params = {\n",
    "        'objective': 'binary:logistic',  # Binary classification\n",
    "        'eval_metric': 'auc',  # Evaluation metric, AUC is a common choice\n",
    "        'eta': 0.1,  # Learning rate\n",
    "        'max_depth': 10,  # Maximum depth of a tree\n",
    "        'min_child_weight': 1,  # Minimum sum of instance weight (hessian) needed in a child\n",
    "        'subsample': 0.8,  # Subsample ratio of the training instances\n",
    "        'colsample_bytree': 0.8,  # Subsample ratio of columns when constructing each tree\n",
    "        'lambda': 1,  # L2 regularization term on weights\n",
    "        'alpha': 0,  # L1 regularization term on weights\n",
    "        'seed': 42  # Random seed for reproducibility\n",
    "    }\n",
    "\n",
    "    # Train the model\n",
    "    bst = xgb.train(params, dtrain, num_boost_round=10000, evals=[(dtest, 'test')], early_stopping_rounds=50, verbose_eval=10)\n",
    "\n",
    "    # Predict\n",
    "    y_pred = bst.predict(dtest)\n",
    "    predictions = [1 if x > 0.5 else 0 for x in y_pred]\n",
    "\n",
    "    # Evaluate the model\n",
    "    accuracy = accuracy_score(y_test, predictions)\n",
    "    auc = roc_auc_score(y_test, y_pred)\n",
    "\n",
    "    # Print evaluation metrics\n",
    "    print(f'Accuracy: {accuracy:.4f}')\n",
    "    print(f'AUC: {auc:.4f}')\n",
    "\n",
    "    # Save the model\n",
    "    bst.save_model(model_path)\n",
    "\n",
    "    # Return the model and metrics\n",
    "    return bst, accuracy, auc\n",
    "\n",
    "# loaded_model = xgb.Booster()\n",
    "# loaded_model.load_model('xgboost_model.json')"
   ]
  },
  {
   "cell_type": "code",
   "execution_count": null,
   "metadata": {},
   "outputs": [],
   "source": [
    "bst, accuracy, auc = XGBoost(X_train, X_test, y_train, y_test)"
   ]
  },
  {
   "cell_type": "code",
   "execution_count": 9,
   "metadata": {},
   "outputs": [
    {
     "name": "stdout",
     "output_type": "stream",
     "text": [
      "0.6643282051282051 0.7035754378986239\n"
     ]
    }
   ],
   "source": [
    "print(accuracy, auc)"
   ]
  },
  {
   "cell_type": "code",
   "execution_count": 10,
   "metadata": {},
   "outputs": [
    {
     "data": {
      "image/png": "[encoded data removed]",
      "text/plain": [
       "<Figure size 640x480 with 1 Axes>"
      ]
     },
     "metadata": {},
     "output_type": "display_data"
    }
   ],
   "source": [
    "plot_importance(bst)\n",
    "plt.show()"
   ]
  },
  {
   "cell_type": "code",
   "execution_count": null,
   "metadata": {},
   "outputs": [],
   "source": [
    "# from sklearn.model_selection import GridSearchCV\n",
    "# from xgboost import XGBClassifier\n",
    "\n",
    "# # Define the model\n",
    "# model = XGBClassifier(use_label_encoder=False, eval_metric='auc')\n",
    "\n",
    "# # Define hyperparameter grid\n",
    "# param_grid = {\n",
    "#     'n_estimators': [100, 300, 500],\n",
    "#     'max_depth': [4, 6, 8],\n",
    "#     'learning_rate': [0.01, 0.05, 0.1],\n",
    "#     'subsample': [0.6, 0.8, 1.0],\n",
    "#     'colsample_bytree': [0.6, 0.8, 1.0]\n",
    "# }\n",
    "\n",
    "# # Grid Search\n",
    "# grid_search = GridSearchCV(model, param_grid, cv=3, scoring='roc_auc', verbose=2, n_jobs=-1)\n",
    "# grid_search.fit(X_train, y_train)\n",
    "\n",
    "# # Best parameters\n",
    "# print(f\"Best parameters found: {grid_search.best_params_}\")"
   ]
  }
 ],
 "metadata": {
  "kernelspec": {
   "display_name": "iris",
   "language": "python",
   "name": "python3"
  },
  "language_info": {
   "codemirror_mode": {
    "name": "ipython",
    "version": 3
   },
   "file_extension": ".py",
   "mimetype": "text/x-python",
   "name": "python",
   "nbconvert_exporter": "python",
   "pygments_lexer": "ipython3",
   "version": "3.9.19"
  }
 },
 "nbformat": 4,
 "nbformat_minor": 2
}
