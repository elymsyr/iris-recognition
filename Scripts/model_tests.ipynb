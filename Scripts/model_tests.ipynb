{
  "cells": [
    {
      "cell_type": "markdown",
      "metadata": {
        "colab_type": "text",
        "id": "view-in-github"
      },
      "source": [
        "<a href=\"https://colab.research.google.com/github/elymsyr/iris-recognition/blob/main/model_n_gridsearch.ipynb\" target=\"_parent\"><img src=\"https://colab.research.google.com/assets/colab-badge.svg\" alt=\"Open In Colab\"/></a>"
      ]
    },
    {
      "cell_type": "markdown",
      "metadata": {
        "id": "M9c-JVxQbKBQ"
      },
      "source": [
        "# Import"
      ]
    },
    {
      "cell_type": "code",
      "execution_count": 1,
      "metadata": {
        "id": "XQBmeBRcay6E"
      },
      "outputs": [],
      "source": [
        "import pandas as pd\n",
        "from sklearn.model_selection import train_test_split\n",
        "import pandas as pd\n",
        "from sklearn import metrics\n",
        "from sklearn.model_selection import train_test_split\n",
        "from sklearn.metrics import accuracy_score, roc_auc_score\n",
        "import matplotlib.pyplot as plt\n",
        "from xgboost import plot_importance\n",
        "from sklearn.metrics import confusion_matrix, ConfusionMatrixDisplay\n",
        "from sklearn.preprocessing import MinMaxScaler\n",
        "from sklearn.metrics import classification_report"
      ]
    },
    {
      "cell_type": "markdown",
      "metadata": {
        "id": "eeGJ1MhSbORb"
      },
      "source": [
        "# Create Test and Train Data"
      ]
    },
    {
      "cell_type": "markdown",
      "metadata": {
        "id": "W8N9_h5eynbg"
      },
      "source": [
        "### Download Data"
      ]
    },
    {
      "cell_type": "code",
      "execution_count": 8,
      "metadata": {
        "colab": {
          "base_uri": "https://localhost:8080/",
          "height": 0
        },
        "id": "737RrzMgbN4u",
        "outputId": "30cff75b-451c-40e5-e406-ad892b039b88"
      },
      "outputs": [
        {
          "data": {
            "text/html": [
              "<div>\n",
              "<style scoped>\n",
              "    .dataframe tbody tr th:only-of-type {\n",
              "        vertical-align: middle;\n",
              "    }\n",
              "\n",
              "    .dataframe tbody tr th {\n",
              "        vertical-align: top;\n",
              "    }\n",
              "\n",
              "    .dataframe thead th {\n",
              "        text-align: right;\n",
              "    }\n",
              "</style>\n",
              "<table border=\"1\" class=\"dataframe\">\n",
              "  <thead>\n",
              "    <tr style=\"text-align: right;\">\n",
              "      <th></th>\n",
              "      <th>match</th>\n",
              "      <th>image_tag</th>\n",
              "      <th>pos</th>\n",
              "      <th>point_x</th>\n",
              "      <th>point_y</th>\n",
              "      <th>size</th>\n",
              "      <th>angle</th>\n",
              "      <th>response</th>\n",
              "      <th>octave</th>\n",
              "      <th>blur</th>\n",
              "    </tr>\n",
              "  </thead>\n",
              "  <tbody>\n",
              "    <tr>\n",
              "      <th>0</th>\n",
              "      <td>0</td>\n",
              "      <td>S6268S05</td>\n",
              "      <td>right-side</td>\n",
              "      <td>49</td>\n",
              "      <td>169</td>\n",
              "      <td>37.200001</td>\n",
              "      <td>332.101624</td>\n",
              "      <td>0.000561</td>\n",
              "      <td>1</td>\n",
              "      <td>15.741389</td>\n",
              "    </tr>\n",
              "    <tr>\n",
              "      <th>1</th>\n",
              "      <td>0</td>\n",
              "      <td>S6589S05</td>\n",
              "      <td>right-side</td>\n",
              "      <td>45</td>\n",
              "      <td>78</td>\n",
              "      <td>37.200001</td>\n",
              "      <td>304.904633</td>\n",
              "      <td>0.000206</td>\n",
              "      <td>1</td>\n",
              "      <td>8.851910</td>\n",
              "    </tr>\n",
              "    <tr>\n",
              "      <th>2</th>\n",
              "      <td>0</td>\n",
              "      <td>S6268S05</td>\n",
              "      <td>right-side</td>\n",
              "      <td>61</td>\n",
              "      <td>110</td>\n",
              "      <td>44.640003</td>\n",
              "      <td>354.250458</td>\n",
              "      <td>0.000638</td>\n",
              "      <td>2</td>\n",
              "      <td>15.741389</td>\n",
              "    </tr>\n",
              "    <tr>\n",
              "      <th>3</th>\n",
              "      <td>0</td>\n",
              "      <td>S6589S05</td>\n",
              "      <td>right-side</td>\n",
              "      <td>41</td>\n",
              "      <td>145</td>\n",
              "      <td>31.000000</td>\n",
              "      <td>8.945118</td>\n",
              "      <td>0.000735</td>\n",
              "      <td>0</td>\n",
              "      <td>8.851910</td>\n",
              "    </tr>\n",
              "    <tr>\n",
              "      <th>4</th>\n",
              "      <td>0</td>\n",
              "      <td>S6268S05</td>\n",
              "      <td>left-side</td>\n",
              "      <td>62</td>\n",
              "      <td>88</td>\n",
              "      <td>37.200001</td>\n",
              "      <td>175.376465</td>\n",
              "      <td>0.001307</td>\n",
              "      <td>1</td>\n",
              "      <td>15.741389</td>\n",
              "    </tr>\n",
              "  </tbody>\n",
              "</table>\n",
              "</div>"
            ],
            "text/plain": [
              "   match image_tag         pos  point_x  point_y       size       angle  \\\n",
              "0      0  S6268S05  right-side       49      169  37.200001  332.101624   \n",
              "1      0  S6589S05  right-side       45       78  37.200001  304.904633   \n",
              "2      0  S6268S05  right-side       61      110  44.640003  354.250458   \n",
              "3      0  S6589S05  right-side       41      145  31.000000    8.945118   \n",
              "4      0  S6268S05   left-side       62       88  37.200001  175.376465   \n",
              "\n",
              "   response  octave       blur  \n",
              "0  0.000561       1  15.741389  \n",
              "1  0.000206       1   8.851910  \n",
              "2  0.000638       2  15.741389  \n",
              "3  0.000735       0   8.851910  \n",
              "4  0.001307       1  15.741389  "
            ]
          },
          "execution_count": 8,
          "metadata": {},
          "output_type": "execute_result"
        }
      ],
      "source": [
        "# url = 'https://raw.githubusercontent.com/elymsyr/iris-recognition/main/Project/kp_classify_blur.csv'\n",
        "# df = pd.read_csv(url)\n",
        "\n",
        "df = pd.read_csv('../kp_classify.csv')\n",
        "df.head()"
      ]
    },
    {
      "cell_type": "markdown",
      "metadata": {
        "id": "cSR9eZOnynbh"
      },
      "source": [
        "### Process Data"
      ]
    },
    {
      "cell_type": "code",
      "execution_count": 9,
      "metadata": {
        "id": "IQ0wdG87bV0l"
      },
      "outputs": [],
      "source": [
        "# dividing the datasets into two parts i.e. training datasets and test datasets\n",
        "mapping = {'right-side': 0, 'left-side': 1, 'bottom': 2, 'complete': 3}\n",
        "df['pos'] = df['pos'].map(mapping)\n",
        "\n",
        "# df = df.sample(n=400000, random_state=42).reset_index(drop=True)\n",
        "df = df.drop(['octave'], axis=1)"
      ]
    },
    {
      "cell_type": "code",
      "execution_count": 10,
      "metadata": {
        "colab": {
          "base_uri": "https://localhost:8080/"
        },
        "id": "2YGX31lxynbi",
        "outputId": "94dbe84c-8593-45d2-f43a-e07dcd308df2"
      },
      "outputs": [
        {
          "data": {
            "text/plain": [
              "(213898, 9)"
            ]
          },
          "execution_count": 10,
          "metadata": {},
          "output_type": "execute_result"
        }
      ],
      "source": [
        "df.shape"
      ]
    },
    {
      "cell_type": "code",
      "execution_count": 11,
      "metadata": {
        "id": "CWQeu24KbWpn"
      },
      "outputs": [],
      "source": [
        "# Separate majority and minority classes\n",
        "df_class_0 = df[df['match'] == 0]\n",
        "df_class_1 = df[df['match'] == 1]\n",
        "\n",
        "# Determine the number of samples to keep\n",
        "n_samples = min(len(df_class_0), len(df_class_1))\n",
        "\n",
        "# Undersample the majority class\n",
        "df_class_0_balanced = df_class_0.sample(n=n_samples, random_state=42)\n",
        "df_class_1_balanced = df_class_1.sample(n=n_samples, random_state=42)\n",
        "\n",
        "# Combine the balanced classes\n",
        "df_balanced = pd.concat([df_class_0_balanced, df_class_1_balanced])\n",
        "\n",
        "# Shuffle the data\n",
        "df = df_balanced.sample(frac=1, random_state=42).reset_index(drop=True)"
      ]
    },
    {
      "cell_type": "code",
      "execution_count": 12,
      "metadata": {
        "colab": {
          "base_uri": "https://localhost:8080/"
        },
        "id": "CXQfWPdDbYWj",
        "outputId": "e95f2e5b-6686-4b12-d597-e0819a7d810a"
      },
      "outputs": [
        {
          "name": "stdout",
          "output_type": "stream",
          "text": [
            "match\n",
            "1    90334\n",
            "0    90334\n",
            "Name: count, dtype: int64\n"
          ]
        }
      ],
      "source": [
        "print(df['match'].value_counts())"
      ]
    },
    {
      "cell_type": "code",
      "execution_count": 13,
      "metadata": {
        "colab": {
          "base_uri": "https://localhost:8080/"
        },
        "id": "QakzsxAfbZGR",
        "outputId": "685f50f7-597f-4f8c-ffc1-5770fa46b1cc"
      },
      "outputs": [
        {
          "name": "stdout",
          "output_type": "stream",
          "text": [
            "0    1\n",
            "1    0\n",
            "Name: match, dtype: int64\n",
            "   pos  point_x  point_y       size      angle  response       blur\n",
            "0    3      136      114  37.200001  74.281441  0.001685  11.790400\n",
            "1    3      177      115  44.640003  21.292723  0.002942  56.270301\n"
          ]
        }
      ],
      "source": [
        "y = df['match']\n",
        "X = df.drop(labels=['match', 'image_tag'], axis=1)\n",
        "\n",
        "print(y[:2])\n",
        "print(X[:2])"
      ]
    },
    {
      "cell_type": "code",
      "execution_count": 14,
      "metadata": {
        "id": "G7x0uYpabZxe"
      },
      "outputs": [],
      "source": [
        "X_train, X_test, y_train, y_test = train_test_split(X, y, test_size = 0.15)"
      ]
    },
    {
      "cell_type": "markdown",
      "metadata": {
        "id": "Y-1xtxWibeGI"
      },
      "source": [
        "# Train Model"
      ]
    },
    {
      "cell_type": "code",
      "execution_count": 18,
      "metadata": {
        "id": "1pH4EAi7ynbl"
      },
      "outputs": [],
      "source": [
        "threshold=0.5"
      ]
    },
    {
      "cell_type": "markdown",
      "metadata": {
        "id": "64CaRPGdynbl"
      },
      "source": [
        "## XGBoost"
      ]
    },
    {
      "cell_type": "markdown",
      "metadata": {
        "id": "Ng_6WsrWynbl"
      },
      "source": [
        "### Train"
      ]
    },
    {
      "cell_type": "code",
      "execution_count": 19,
      "metadata": {
        "id": "9bf2Bg5eynbl"
      },
      "outputs": [],
      "source": [
        "import xgboost as xgb\n",
        "import joblib\n",
        "\n",
        "def XGBoost(X_train, X_test, y_train, y_test, scaler_path = 'scaler.pkl', model_path='xgboost_model.json', threshold: float = 0.5, params: dict = { 'objective': 'binary:logistic', 'eval_metric': 'auc', 'eta': 0.1, 'max_depth': 10, 'min_child_weight': 1, 'subsample': 0.8, 'colsample_bytree': 0.8, 'lambda': 1, 'alpha': 0, 'seed': 4 }):\n",
        "    # Initialize MinMaxScaler\n",
        "    scaler = MinMaxScaler(feature_range=(0,1))\n",
        "\n",
        "    # Fit and transform the training data, transform the test data\n",
        "    X_train_scaled = scaler.fit_transform(X_train)\n",
        "    X_test_scaled = scaler.transform(X_test)\n",
        "\n",
        "    # Convert scaled data to DMatrix format (optimized for XGBoost)\n",
        "    dtrain = xgb.DMatrix(X_train_scaled, label=y_train)\n",
        "    dtest = xgb.DMatrix(X_test_scaled, label=y_test)\n",
        "\n",
        "    # Train the model\n",
        "    bst = xgb.train(params, dtrain, num_boost_round=10000, evals=[(dtest, 'test')], early_stopping_rounds=50, verbose_eval=10)\n",
        "\n",
        "    # Predict\n",
        "    y_pred = bst.predict(dtest)\n",
        "    predictions = [1 if x > threshold else 0 for x in y_pred]\n",
        "\n",
        "    # Evaluate the model\n",
        "    accuracy = accuracy_score(y_test, predictions)\n",
        "    auc = roc_auc_score(y_test, y_pred)\n",
        "\n",
        "    # Print evaluation metrics\n",
        "    print(f'Accuracy: {accuracy:.4f}')\n",
        "    print(f'AUC: {auc:.4f}')\n",
        "\n",
        "    # Save the model\n",
        "    bst.save_model(model_path)\n",
        "    joblib.dump(scaler, scaler_path)\n",
        "\n",
        "    # Return the model and metrics\n",
        "    return bst, accuracy, auc, y_pred, predictions, dtrain, dtest\n"
      ]
    },
    {
      "cell_type": "code",
      "execution_count": 20,
      "metadata": {
        "id": "T14JllgxcEv7"
      },
      "outputs": [],
      "source": [
        "params = {\n",
        "    'objective': 'binary:logistic',  # Binary classification\n",
        "    'eval_metric': 'auc',  # Evaluation metric, AUC is a common choice\n",
        "    'eta': 0.1,  # Learning rate\n",
        "    'max_depth': 10,  # Maximum depth of a tree\n",
        "    'min_child_weight': 1,  # Minimum sum of instance weight (hessian) needed in a child\n",
        "    'subsample': 0.8,  # Subsample ratio of the training instances\n",
        "    'colsample_bytree': 0.8,  # Subsample ratio of columns when constructing each tree\n",
        "    'lambda': 1,  # L2 regularization term on weights\n",
        "    'alpha': 0,  # L1 regularization term on weights\n",
        "    'seed': 42  # Random seed for reproducibility\n",
        "}"
      ]
    },
    {
      "cell_type": "code",
      "execution_count": 21,
      "metadata": {
        "colab": {
          "base_uri": "https://localhost:8080/"
        },
        "id": "nRwBOEeXbhH6",
        "outputId": "94cf6150-28a9-4c86-838a-bad140fb7dd3"
      },
      "outputs": [
        {
          "name": "stdout",
          "output_type": "stream",
          "text": [
            "[0]\ttest-auc:0.64111\n",
            "[10]\ttest-auc:0.70726\n",
            "[20]\ttest-auc:0.71833\n",
            "[30]\ttest-auc:0.72619\n",
            "[40]\ttest-auc:0.73046\n",
            "[50]\ttest-auc:0.73675\n",
            "[60]\ttest-auc:0.73931\n",
            "[70]\ttest-auc:0.74288\n",
            "[80]\ttest-auc:0.74591\n",
            "[90]\ttest-auc:0.74777\n",
            "[100]\ttest-auc:0.75058\n",
            "[110]\ttest-auc:0.75177\n",
            "[120]\ttest-auc:0.75319\n",
            "[130]\ttest-auc:0.75394\n",
            "[140]\ttest-auc:0.75514\n",
            "[150]\ttest-auc:0.75647\n",
            "[160]\ttest-auc:0.75748\n",
            "[170]\ttest-auc:0.75848\n",
            "[180]\ttest-auc:0.75906\n",
            "[190]\ttest-auc:0.75948\n",
            "[200]\ttest-auc:0.76015\n",
            "[210]\ttest-auc:0.76029\n",
            "[220]\ttest-auc:0.76088\n",
            "[230]\ttest-auc:0.76128\n",
            "[240]\ttest-auc:0.76158\n",
            "[250]\ttest-auc:0.76168\n",
            "[260]\ttest-auc:0.76193\n",
            "[270]\ttest-auc:0.76230\n",
            "[280]\ttest-auc:0.76231\n",
            "[290]\ttest-auc:0.76239\n",
            "[300]\ttest-auc:0.76262\n",
            "[310]\ttest-auc:0.76265\n",
            "[320]\ttest-auc:0.76254\n",
            "[330]\ttest-auc:0.76235\n",
            "[340]\ttest-auc:0.76229\n",
            "[350]\ttest-auc:0.76227\n",
            "[358]\ttest-auc:0.76229\n",
            "Accuracy: 0.6972\n",
            "AUC: 0.7623\n"
          ]
        }
      ],
      "source": [
        "bst, accuracy, auc, y_pred, predictions, dtrain, dtest = XGBoost(X_train, X_test, y_train, y_test, threshold=threshold, params=params, scaler_path='../scaler_2.pkl', model_path='../model_2.json')"
      ]
    },
    {
      "cell_type": "code",
      "execution_count": 22,
      "metadata": {
        "colab": {
          "base_uri": "https://localhost:8080/",
          "height": 646
        },
        "id": "0O6fxyZEbiDz",
        "outputId": "ec12c6b8-f677-45eb-fec1-8538360e64a5"
      },
      "outputs": [
        {
          "name": "stdout",
          "output_type": "stream",
          "text": [
            "0.6972436441459725 0.7622904198638225\n"
          ]
        },
        {
          "data": {
            "image/png": "[encoded data removed]",
            "text/plain": [
              "<Figure size 640x480 with 2 Axes>"
            ]
          },
          "metadata": {},
          "output_type": "display_data"
        },
        {
          "name": "stdout",
          "output_type": "stream",
          "text": [
            "              precision    recall  f1-score   support\n",
            "\n",
            "           0       0.70      0.68      0.69     13617\n",
            "           1       0.69      0.71      0.70     13484\n",
            "\n",
            "    accuracy                           0.70     27101\n",
            "   macro avg       0.70      0.70      0.70     27101\n",
            "weighted avg       0.70      0.70      0.70     27101\n",
            "\n"
          ]
        }
      ],
      "source": [
        "print(accuracy, auc)\n",
        "conf_matrix = confusion_matrix(y_test, predictions)\n",
        "disp = ConfusionMatrixDisplay(confusion_matrix=conf_matrix)\n",
        "disp.plot(cmap=plt.cm.Blues)\n",
        "plt.title(\"Confusion Matrix\")\n",
        "plt.show()\n",
        "print(classification_report(y_test, predictions))"
      ]
    },
    {
      "cell_type": "code",
      "execution_count": 23,
      "metadata": {
        "colab": {
          "base_uri": "https://localhost:8080/",
          "height": 472
        },
        "id": "k8Q7iqkBbluC",
        "outputId": "6d0b15b7-60c2-4f12-d3fd-a121a623aecc"
      },
      "outputs": [
        {
          "data": {
            "image/png": "[encoded data removed]",
            "text/plain": [
              "<Figure size 640x480 with 1 Axes>"
            ]
          },
          "metadata": {},
          "output_type": "display_data"
        }
      ],
      "source": [
        "plot_importance(bst)\n",
        "plt.show()"
      ]
    },
    {
      "cell_type": "markdown",
      "metadata": {
        "id": "ATh_n6BFbsmY"
      },
      "source": [
        "### Grid Search"
      ]
    },
    {
      "cell_type": "code",
      "execution_count": null,
      "metadata": {
        "id": "1ZPDCX1qbtfV"
      },
      "outputs": [],
      "source": [
        "from sklearn.model_selection import GridSearchCV\n",
        "from xgboost import XGBClassifier\n",
        "\n",
        "# Define the model\n",
        "model = XGBClassifier(eval_metric='auc')\n",
        "\n",
        "param_grid = {\n",
        "    'objective': ['binary:logistic'],  # Keeping it for binary classification\n",
        "    'eval_metric': ['auc'],  # AUC is a common evaluation metric\n",
        "    'learning_rate': [0.1],  # Learning rate (eta), typically small\n",
        "    'max_depth': [None, 12],  # Depth of trees; small to moderate values to prevent overfitting\n",
        "    'min_child_weight': [1, 3],  # Minimum sum of instance weight needed in a child; values to regularize\n",
        "    # 'subsample': [0.6, 0.8, 1.0],  # Subsample ratio of the training instances; controlling overfitting\n",
        "    # 'colsample_bytree': [0.6, 0.8, 1.0],  # Subsample ratio of columns when constructing each tree\n",
        "    'gamma': [0, 0.5, 1.0],  # Minimum loss reduction required to make a further partition\n",
        "    # 'reg_lambda': [1, 10, 100],  # L2 regularization term on weights\n",
        "    # 'reg_alpha': [0, 0.1, 1],  # L1 regularization term on weights\n",
        "    'n_estimators': [200, 300],  # Number of trees to fit; affects model complexity\n",
        "    'scale_pos_weight': [2],  # Balances positive and negative weights in unbalanced datasets\n",
        "    'seed': [42]  # Random seed for reproducibility\n",
        "}\n",
        "\n",
        "# Grid Search\n",
        "grid_search = GridSearchCV(model, param_grid, cv=3, scoring='roc_auc', verbose=2, n_jobs=-1)\n",
        "grid_search.fit(X_train, y_train)\n",
        "\n",
        "# Best parameters\n",
        "print(f\"Best parameters found: {grid_search.best_params_}\")"
      ]
    },
    {
      "cell_type": "code",
      "execution_count": null,
      "metadata": {
        "id": "UaRG7Eurfj_C"
      },
      "outputs": [],
      "source": [
        "print(f\"Best ROC AUC score: {grid_search.best_score_:.4f}\")\n",
        "\n",
        "# Access the full results in a DataFrame\n",
        "results_df = pd.DataFrame(grid_search.cv_results_)\n",
        "\n",
        "# Display the top 5 results sorted by mean test score\n",
        "print(\"Top 5 parameter combinations:\")\n",
        "print(results_df[['mean_test_score', 'std_test_score', 'rank_test_score', 'mean_score_time']].sort_values(by='mean_test_score', ascending=False).head())\n",
        "# print(results_df[['params']])\n",
        "\n",
        "# Additional details: display all columns available\n",
        "# print(\"\\nColumns available in cv_results_:\\n\", results_df.columns)"
      ]
    },
    {
      "cell_type": "markdown",
      "metadata": {
        "id": "V1eMguSCynbo"
      },
      "source": [
        "## LightGBM"
      ]
    },
    {
      "cell_type": "code",
      "execution_count": 37,
      "metadata": {
        "colab": {
          "base_uri": "https://localhost:8080/"
        },
        "id": "Eoys4BD1ynbo",
        "outputId": "01405101-5088-4de3-9d9c-35279810cffe"
      },
      "outputs": [
        {
          "name": "stderr",
          "output_type": "stream",
          "text": [
            "/usr/local/lib/python3.10/dist-packages/dask/dataframe/__init__.py:42: FutureWarning: \n",
            "Dask dataframe query planning is disabled because dask-expr is not installed.\n",
            "\n",
            "You can install it with `pip install dask[dataframe]` or `conda install dask`.\n",
            "This will raise in a future version.\n",
            "\n",
            "  warnings.warn(msg, FutureWarning)\n"
          ]
        }
      ],
      "source": [
        "import lightgbm as lgb\n",
        "from sklearn.metrics import accuracy_score, roc_auc_score\n",
        "from sklearn.preprocessing import MinMaxScaler\n",
        "\n",
        "def LightGBM(X_train, X_test, y_train, y_test, model_path='lightgbm_model.txt', threshold=0.5, params=None):\n",
        "    # Default parameters for LightGBM\n",
        "    if params is None:\n",
        "        params = {\n",
        "            'objective': 'binary',\n",
        "            'metric': 'auc',\n",
        "            'learning_rate': 0.1,\n",
        "            'max_depth': 10,\n",
        "            'num_leaves': 31,\n",
        "            'min_data_in_leaf': 20,\n",
        "            'bagging_fraction': 0.8,\n",
        "            'feature_fraction': 0.8,\n",
        "            'lambda_l1': 0.0,\n",
        "            'lambda_l2': 0.0,\n",
        "            'seed': 4\n",
        "        }\n",
        "\n",
        "    # Initialize MinMaxScaler\n",
        "    scaler = MinMaxScaler(feature_range=(0, 1))\n",
        "\n",
        "    # Fit and transform the training data, transform the test data\n",
        "    X_train_scaled = scaler.fit_transform(X_train)\n",
        "    X_test_scaled = scaler.transform(X_test)\n",
        "\n",
        "    # Convert scaled data to LightGBM Dataset format\n",
        "    train_data = lgb.Dataset(X_train_scaled, label=y_train)\n",
        "    test_data = lgb.Dataset(X_test_scaled, label=y_test)\n",
        "\n",
        "    # Train the model\n",
        "    model = lgb.train(params, train_data, num_boost_round=300, valid_sets=[test_data])\n",
        "\n",
        "    # Predict\n",
        "    y_pred = model.predict(X_test_scaled)\n",
        "    predictions = [1 if x > threshold else 0 for x in y_pred]\n",
        "\n",
        "    # Evaluate the model\n",
        "    accuracy = accuracy_score(y_test, predictions)\n",
        "    auc = roc_auc_score(y_test, y_pred)\n",
        "\n",
        "    # Print evaluation metrics\n",
        "    print(f'Accuracy: {accuracy:.4f}')\n",
        "    print(f'AUC: {auc:.4f}')\n",
        "\n",
        "    # Save the model\n",
        "    model.save_model(model_path)\n",
        "\n",
        "    # Return the model and metrics\n",
        "    return model, accuracy, auc, y_pred, predictions, train_data, test_data"
      ]
    },
    {
      "cell_type": "code",
      "execution_count": 38,
      "metadata": {
        "id": "MaZeubsgynbo"
      },
      "outputs": [],
      "source": [
        "params = {\n",
        "    'objective': 'binary',\n",
        "    'metric': 'auc',\n",
        "    'learning_rate': 0.1,\n",
        "    'max_depth': None,\n",
        "    'num_leaves': 31,\n",
        "    'min_data_in_leaf': 20,\n",
        "    'bagging_fraction': 0.8,\n",
        "    'feature_fraction': 0.8,\n",
        "    'lambda_l1': 0.0,\n",
        "    'lambda_l2': 0.0,\n",
        "    'seed': 4\n",
        "}"
      ]
    },
    {
      "cell_type": "code",
      "execution_count": 39,
      "metadata": {
        "colab": {
          "base_uri": "https://localhost:8080/"
        },
        "id": "qin3008pynbo",
        "outputId": "de27588f-7594-441f-8c88-bcf34da3ba9b"
      },
      "outputs": [
        {
          "name": "stdout",
          "output_type": "stream",
          "text": [
            "[LightGBM] [Info] Number of positive: 283716, number of negative: 283553\n",
            "[LightGBM] [Info] Auto-choosing col-wise multi-threading, the overhead of testing was 0.049696 seconds.\n",
            "You can set `force_col_wise=true` to remove the overhead.\n",
            "[LightGBM] [Info] Total Bins 1190\n",
            "[LightGBM] [Info] Number of data points in the train set: 567269, number of used features: 7\n",
            "[LightGBM] [Info] [binary:BoostFromScore]: pavg=0.500144 -> initscore=0.000575\n",
            "[LightGBM] [Info] Start training from score 0.000575\n",
            "Accuracy: 0.6213\n",
            "AUC: 0.6714\n"
          ]
        }
      ],
      "source": [
        "model, accuracy, auc, y_pred, predictions, train_data, test_data = LightGBM(X_train, X_test, y_train, y_test, threshold=threshold, params=params)"
      ]
    },
    {
      "cell_type": "code",
      "execution_count": 40,
      "metadata": {
        "colab": {
          "base_uri": "https://localhost:8080/",
          "height": 646
        },
        "id": "PtpaS5cnynbp",
        "outputId": "691ff367-3451-4a76-d1ca-f787caa1d7e1"
      },
      "outputs": [
        {
          "name": "stdout",
          "output_type": "stream",
          "text": [
            "0.6213251820552009 0.6713949128356401\n"
          ]
        },
        {
          "data": {
            "image/png": "[encoded data removed]",
            "text/plain": [
              "<Figure size 640x480 with 2 Axes>"
            ]
          },
          "metadata": {},
          "output_type": "display_data"
        },
        {
          "name": "stdout",
          "output_type": "stream",
          "text": [
            "              precision    recall  f1-score   support\n",
            "\n",
            "           0       0.61      0.66      0.63     50135\n",
            "           1       0.63      0.59      0.61     49972\n",
            "\n",
            "    accuracy                           0.62    100107\n",
            "   macro avg       0.62      0.62      0.62    100107\n",
            "weighted avg       0.62      0.62      0.62    100107\n",
            "\n"
          ]
        }
      ],
      "source": [
        "print(accuracy, auc)\n",
        "conf_matrix = confusion_matrix(y_test, predictions)\n",
        "disp = ConfusionMatrixDisplay(confusion_matrix=conf_matrix)\n",
        "disp.plot(cmap=plt.cm.Blues)\n",
        "plt.title(\"Confusion Matrix\")\n",
        "plt.show()\n",
        "print(classification_report(y_test, predictions))"
      ]
    },
    {
      "cell_type": "markdown",
      "metadata": {
        "id": "yQ3qhzwlynbp"
      },
      "source": [
        "## Random Forest"
      ]
    },
    {
      "cell_type": "code",
      "execution_count": 41,
      "metadata": {
        "id": "PV7MFiblynbp"
      },
      "outputs": [],
      "source": [
        "from sklearn.ensemble import RandomForestClassifier\n",
        "from sklearn.metrics import accuracy_score, roc_auc_score\n",
        "from sklearn.preprocessing import MinMaxScaler\n",
        "import joblib\n",
        "\n",
        "def RandomForest(X_train, X_test, y_train, y_test, model_path='random_forest_model.pkl', threshold=0.5, params=None):\n",
        "    # Default parameters for Random Forest\n",
        "    if params is None:\n",
        "        params = {\n",
        "            'n_estimators': 100,\n",
        "            'max_depth': 10,\n",
        "            'min_samples_split': 2,\n",
        "            'min_samples_leaf': 1,\n",
        "            'random_state': 4\n",
        "        }\n",
        "\n",
        "    # Initialize MinMaxScaler\n",
        "    scaler = MinMaxScaler(feature_range=(0, 1))\n",
        "\n",
        "    # Fit and transform the training data, transform the test data\n",
        "    X_train_scaled = scaler.fit_transform(X_train)\n",
        "    X_test_scaled = scaler.transform(X_test)\n",
        "\n",
        "    # Train the model\n",
        "    model = RandomForestClassifier(**params)\n",
        "    model.fit(X_train_scaled, y_train)\n",
        "\n",
        "    # Predict\n",
        "    y_pred_proba = model.predict_proba(X_test_scaled)[:, 1]\n",
        "    predictions = [1 if x > threshold else 0 for x in y_pred_proba]\n",
        "\n",
        "    # Evaluate the model\n",
        "    accuracy = accuracy_score(y_test, predictions)\n",
        "    auc = roc_auc_score(y_test, y_pred_proba)\n",
        "\n",
        "    # Print evaluation metrics\n",
        "    print(f'Accuracy: {accuracy:.4f}')\n",
        "    print(f'AUC: {auc:.4f}')\n",
        "\n",
        "    # Save the model\n",
        "    joblib.dump(model, model_path)\n",
        "\n",
        "    # Return the model and metrics\n",
        "    return model, accuracy, auc, y_pred_proba, predictions\n"
      ]
    },
    {
      "cell_type": "code",
      "execution_count": 42,
      "metadata": {
        "id": "04Dd8zujynbq"
      },
      "outputs": [],
      "source": [
        "params = {\n",
        "    'n_estimators': 100,\n",
        "    'max_depth': 10,\n",
        "    'min_samples_split': 2,\n",
        "    'min_samples_leaf': 1,\n",
        "    'random_state': 4\n",
        "}"
      ]
    },
    {
      "cell_type": "code",
      "execution_count": 44,
      "metadata": {
        "colab": {
          "base_uri": "https://localhost:8080/"
        },
        "id": "zfumMtoKynbq",
        "outputId": "840301a3-7b79-430c-e5db-89093cfac335"
      },
      "outputs": [
        {
          "name": "stdout",
          "output_type": "stream",
          "text": [
            "Accuracy: 0.5876\n",
            "AUC: 0.6234\n"
          ]
        }
      ],
      "source": [
        "model, accuracy, auc, y_pred_proba, predictions = RandomForest(X_train, X_test, y_train, y_test, threshold=threshold, params=params)"
      ]
    },
    {
      "cell_type": "code",
      "execution_count": 45,
      "metadata": {
        "colab": {
          "base_uri": "https://localhost:8080/",
          "height": 646
        },
        "id": "wXu2d5h2ynbq",
        "outputId": "4dab41a1-bb6a-4d48-c92b-bc0c7ac3c87c"
      },
      "outputs": [
        {
          "name": "stdout",
          "output_type": "stream",
          "text": [
            "0.5875812880218166 0.6234265639740603\n"
          ]
        },
        {
          "data": {
            "image/png": "[encoded data removed]",
            "text/plain": [
              "<Figure size 640x480 with 2 Axes>"
            ]
          },
          "metadata": {},
          "output_type": "display_data"
        },
        {
          "name": "stdout",
          "output_type": "stream",
          "text": [
            "              precision    recall  f1-score   support\n",
            "\n",
            "           0       0.57      0.72      0.64     50135\n",
            "           1       0.62      0.46      0.53     49972\n",
            "\n",
            "    accuracy                           0.59    100107\n",
            "   macro avg       0.59      0.59      0.58    100107\n",
            "weighted avg       0.59      0.59      0.58    100107\n",
            "\n"
          ]
        }
      ],
      "source": [
        "print(accuracy, auc)\n",
        "conf_matrix = confusion_matrix(y_test, predictions)\n",
        "disp = ConfusionMatrixDisplay(confusion_matrix=conf_matrix)\n",
        "disp.plot(cmap=plt.cm.Blues)\n",
        "plt.title(\"Confusion Matrix\")\n",
        "plt.show()\n",
        "print(classification_report(y_test, predictions))"
      ]
    },
    {
      "cell_type": "markdown",
      "metadata": {
        "id": "4pRuu4QBynbr"
      },
      "source": [
        "## Logistic Regression with Regularization Function"
      ]
    },
    {
      "cell_type": "code",
      "execution_count": 46,
      "metadata": {
        "id": "_8NefqzJynbr"
      },
      "outputs": [],
      "source": [
        "from sklearn.linear_model import LogisticRegression\n",
        "from sklearn.metrics import accuracy_score, roc_auc_score\n",
        "from sklearn.preprocessing import MinMaxScaler\n",
        "import joblib\n",
        "\n",
        "def LogisticRegressionWithRegularization(X_train, X_test, y_train, y_test, model_path='logistic_regression_model.pkl', threshold=0.5, params=None):\n",
        "    # Default parameters for Logistic Regression\n",
        "    if params is None:\n",
        "        params = {\n",
        "            'penalty': 'l2',  # Regularization\n",
        "            'C': 1.0,  # Inverse of regularization strength\n",
        "            'solver': 'lbfgs',\n",
        "            'max_iter': 1000,\n",
        "            'random_state': 4\n",
        "        }\n",
        "\n",
        "    # Initialize MinMaxScaler\n",
        "    scaler = MinMaxScaler(feature_range=(0, 1))\n",
        "\n",
        "    # Fit and transform the training data, transform the test data\n",
        "    X_train_scaled = scaler.fit_transform(X_train)\n",
        "    X_test_scaled = scaler.transform(X_test)\n",
        "\n",
        "    # Train the model\n",
        "    model = LogisticRegression(**params)\n",
        "    model.fit(X_train_scaled, y_train)\n",
        "\n",
        "    # Predict\n",
        "    y_pred_proba = model.predict_proba(X_test_scaled)[:, 1]\n",
        "    predictions = [1 if x > threshold else 0 for x in y_pred_proba]\n",
        "\n",
        "    # Evaluate the model\n",
        "    accuracy = accuracy_score(y_test, predictions)\n",
        "    auc = roc_auc_score(y_test, y_pred_proba)\n",
        "\n",
        "    # Print evaluation metrics\n",
        "    print(f'Accuracy: {accuracy:.4f}')\n",
        "    print(f'AUC: {auc:.4f}')\n",
        "\n",
        "    # Save the model\n",
        "    joblib.dump(model, model_path)\n",
        "\n",
        "    # Return the model and metrics\n",
        "    return model, accuracy, auc, y_pred_proba, predictions\n"
      ]
    },
    {
      "cell_type": "code",
      "execution_count": 47,
      "metadata": {
        "id": "I89-NZu0ynbr"
      },
      "outputs": [],
      "source": [
        "params = {\n",
        "    'penalty': 'l2',  # Regularization\n",
        "    'C': 1.0,  # Inverse of regularization strength\n",
        "    'solver': 'lbfgs',\n",
        "    'max_iter': 1000,\n",
        "    'random_state': 4\n",
        "}"
      ]
    },
    {
      "cell_type": "code",
      "execution_count": 48,
      "metadata": {
        "colab": {
          "base_uri": "https://localhost:8080/"
        },
        "id": "yfbaHViJynbr",
        "outputId": "0ea06bbb-1eec-4d3a-cc27-cc4dbc86c04e"
      },
      "outputs": [
        {
          "name": "stdout",
          "output_type": "stream",
          "text": [
            "Accuracy: 0.5612\n",
            "AUC: 0.5764\n"
          ]
        }
      ],
      "source": [
        "model, accuracy, auc, y_pred_proba, predictions = LogisticRegressionWithRegularization(X_train, X_test, y_train, y_test, threshold=threshold, params=params)"
      ]
    },
    {
      "cell_type": "code",
      "execution_count": 49,
      "metadata": {
        "colab": {
          "base_uri": "https://localhost:8080/",
          "height": 646
        },
        "id": "MY5hsPECynbx",
        "outputId": "c4dac6d1-55e4-499f-a35d-faaa8871e1bc"
      },
      "outputs": [
        {
          "name": "stdout",
          "output_type": "stream",
          "text": [
            "0.5611995165173265 0.5763559858405519\n"
          ]
        },
        {
          "data": {
            "image/png": "[encoded data removed]",
            "text/plain": [
              "<Figure size 640x480 with 2 Axes>"
            ]
          },
          "metadata": {},
          "output_type": "display_data"
        },
        {
          "name": "stdout",
          "output_type": "stream",
          "text": [
            "              precision    recall  f1-score   support\n",
            "\n",
            "           0       0.55      0.67      0.60     50135\n",
            "           1       0.58      0.45      0.51     49972\n",
            "\n",
            "    accuracy                           0.56    100107\n",
            "   macro avg       0.56      0.56      0.56    100107\n",
            "weighted avg       0.56      0.56      0.56    100107\n",
            "\n"
          ]
        }
      ],
      "source": [
        "print(accuracy, auc)\n",
        "conf_matrix = confusion_matrix(y_test, predictions)\n",
        "disp = ConfusionMatrixDisplay(confusion_matrix=conf_matrix)\n",
        "disp.plot(cmap=plt.cm.Blues)\n",
        "plt.title(\"Confusion Matrix\")\n",
        "plt.show()\n",
        "print(classification_report(y_test, predictions))"
      ]
    },
    {
      "cell_type": "markdown",
      "metadata": {
        "id": "mnaojz7Lynbx"
      },
      "source": [
        "## LSTM"
      ]
    },
    {
      "cell_type": "code",
      "execution_count": 14,
      "metadata": {
        "id": "rbnJjaSGynbx"
      },
      "outputs": [],
      "source": [
        "from tensorflow.keras.models import Sequential # type: ignore\n",
        "from tensorflow.keras.layers import LSTM, Dense, Dropout, BatchNormalization # type: ignore\n",
        "from tensorflow.keras.callbacks import EarlyStopping # type: ignore\n",
        "from sklearn.metrics import accuracy_score, roc_auc_score\n",
        "from sklearn.preprocessing import MinMaxScaler\n",
        "import numpy as np\n",
        "\n",
        "\n",
        "def LSTMModel(X_train, X_test, y_train, y_test, model_path='lstm_model.h5', threshold=0.5, params=None):\n",
        "    # Default parameters for LSTM\n",
        "    if params is None:\n",
        "        params = {\n",
        "            'units': [128, 64],  # Units for each LSTM layer\n",
        "            'dropout_rate': 0.2,\n",
        "            'epochs': 50,\n",
        "            'batch_size': 32,\n",
        "            'validation_split': 0.2,\n",
        "            'random_state': 4\n",
        "        }\n",
        "\n",
        "    # Initialize MinMaxScaler\n",
        "    scaler = MinMaxScaler(feature_range=(0, 1))\n",
        "\n",
        "    # Fit and transform the training data, transform the test data\n",
        "    X_train_scaled = scaler.fit_transform(X_train)\n",
        "    X_test_scaled = scaler.transform(X_test)\n",
        "\n",
        "    # Reshape input to be [samples, time steps, features]\n",
        "    X_train_scaled = np.reshape(X_train_scaled, (X_train_scaled.shape[0], 1, X_train_scaled.shape[1]))\n",
        "    X_test_scaled = np.reshape(X_test_scaled, (X_test_scaled.shape[0], 1, X_test_scaled.shape[1]))\n",
        "\n",
        "    # Build the LSTM model\n",
        "    model = Sequential()\n",
        "    model.add(LSTM(units=params['units'][0], return_sequences=True, input_shape=(X_train_scaled.shape[1], X_train_scaled.shape[2])))\n",
        "    model.add(Dropout(params['dropout_rate']))\n",
        "    model.add(BatchNormalization())\n",
        "\n",
        "    # Add another LSTM layer\n",
        "    model.add(LSTM(units=params['units'][1]))\n",
        "    model.add(Dropout(params['dropout_rate']))\n",
        "    model.add(BatchNormalization())\n",
        "\n",
        "    # Output layer\n",
        "    model.add(Dense(1, activation='sigmoid'))\n",
        "\n",
        "    # Compile the model\n",
        "    model.compile(loss='binary_crossentropy', optimizer='adam', metrics=['accuracy'])\n",
        "\n",
        "    # Train the model with early stopping\n",
        "    early_stopping = EarlyStopping(monitor='val_loss', patience=10, restore_best_weights=True)\n",
        "    model.fit(X_train_scaled, y_train, epochs=params['epochs'], batch_size=params['batch_size'],\n",
        "              validation_split=params['validation_split'], callbacks=[early_stopping], verbose=2)\n",
        "\n",
        "    # Predict\n",
        "    y_pred = model.predict(X_test_scaled).ravel()\n",
        "    predictions = [1 if x > threshold else 0 for x in y_pred]\n",
        "\n",
        "    # Evaluate the model\n",
        "    accuracy = accuracy_score(y_test, predictions)\n",
        "    auc = roc_auc_score(y_test, y_pred)\n",
        "\n",
        "    # Print evaluation metrics\n",
        "    print(f'Accuracy: {accuracy:.4f}')\n",
        "    print(f'AUC: {auc:.4f}')\n",
        "\n",
        "    # Save the model\n",
        "    model.save(model_path)\n",
        "\n",
        "    # Return the model and metrics\n",
        "    return model, accuracy, auc, y_pred, predictions\n"
      ]
    },
    {
      "cell_type": "code",
      "execution_count": 15,
      "metadata": {
        "id": "0WuH-67qynbx"
      },
      "outputs": [],
      "source": [
        "params = {\n",
        "    'units': [128, 64],  # Units for each LSTM layer\n",
        "    'dropout_rate': 0.2,\n",
        "    'epochs': 100,\n",
        "    'batch_size': 32,\n",
        "    'validation_split': 0.2,\n",
        "    'random_state': 4\n",
        "}"
      ]
    },
    {
      "cell_type": "code",
      "execution_count": null,
      "metadata": {
        "id": "0tOFKm4pynby"
      },
      "outputs": [],
      "source": [
        "model, accuracy, auc, y_pred, predictions = LSTMModel(X_train, X_test, y_train, y_test, threshold=threshold, params=params)"
      ]
    },
    {
      "cell_type": "code",
      "execution_count": 17,
      "metadata": {
        "colab": {
          "base_uri": "https://localhost:8080/",
          "height": 646
        },
        "id": "Rqy5lbHgynby",
        "outputId": "ce6bd4c9-0fba-4176-8dd3-8b5654c3f886"
      },
      "outputs": [
        {
          "name": "stdout",
          "output_type": "stream",
          "text": [
            "0.5750946487258634 0.6052711159259709\n"
          ]
        },
        {
          "data": {
            "image/png": "[encoded data removed]",
            "text/plain": [
              "<Figure size 640x480 with 2 Axes>"
            ]
          },
          "metadata": {},
          "output_type": "display_data"
        },
        {
          "name": "stdout",
          "output_type": "stream",
          "text": [
            "              precision    recall  f1-score   support\n",
            "\n",
            "           0       0.56      0.68      0.61     50148\n",
            "           1       0.59      0.47      0.53     49959\n",
            "\n",
            "    accuracy                           0.58    100107\n",
            "   macro avg       0.58      0.57      0.57    100107\n",
            "weighted avg       0.58      0.58      0.57    100107\n",
            "\n"
          ]
        }
      ],
      "source": [
        "print(accuracy, auc)\n",
        "conf_matrix = confusion_matrix(y_test, predictions)\n",
        "disp = ConfusionMatrixDisplay(confusion_matrix=conf_matrix)\n",
        "disp.plot(cmap=plt.cm.Blues)\n",
        "plt.title(\"Confusion Matrix\")\n",
        "plt.show()\n",
        "print(classification_report(y_test, predictions))"
      ]
    }
  ],
  "metadata": {
    "colab": {
      "collapsed_sections": [
        "M9c-JVxQbKBQ",
        "W8N9_h5eynbg",
        "cSR9eZOnynbh",
        "Ng_6WsrWynbl",
        "ATh_n6BFbsmY",
        "V1eMguSCynbo",
        "yQ3qhzwlynbp",
        "4pRuu4QBynbr",
        "mnaojz7Lynbx"
      ],
      "include_colab_link": true,
      "provenance": [],
      "toc_visible": true
    },
    "kernelspec": {
      "display_name": "Python 3",
      "name": "python3"
    },
    "language_info": {
      "codemirror_mode": {
        "name": "ipython",
        "version": 3
      },
      "file_extension": ".py",
      "mimetype": "text/x-python",
      "name": "python",
      "nbconvert_exporter": "python",
      "pygments_lexer": "ipython3",
      "version": "3.9.19"
    }
  },
  "nbformat": 4,
  "nbformat_minor": 0
}
