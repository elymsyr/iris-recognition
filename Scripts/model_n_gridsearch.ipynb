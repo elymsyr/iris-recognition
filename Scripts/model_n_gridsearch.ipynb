{
  "cells": [
    {
      "cell_type": "markdown",
      "metadata": {},
      "source": [
        "https://colab.research.google.com/drive/18dQAVz3KFJK81WLyI44knISnk_ZOSn_E"
      ]
    },
    {
      "cell_type": "markdown",
      "metadata": {
        "id": "M9c-JVxQbKBQ"
      },
      "source": [
        "# Import"
      ]
    },
    {
      "cell_type": "code",
      "execution_count": 2,
      "metadata": {
        "id": "XQBmeBRcay6E"
      },
      "outputs": [],
      "source": [
        "import pandas as pd\n",
        "from sklearn.ensemble import RandomForestClassifier\n",
        "from sklearn.model_selection import train_test_split\n",
        "import pandas as pd\n",
        "from sklearn import metrics\n",
        "import xgboost as xgb\n",
        "from sklearn.model_selection import train_test_split\n",
        "from sklearn.metrics import accuracy_score, roc_auc_score\n",
        "import matplotlib.pyplot as plt\n",
        "from xgboost import plot_importance\n",
        "from sklearn.metrics import confusion_matrix, ConfusionMatrixDisplay\n",
        "from sklearn.preprocessing import MinMaxScaler\n",
        "from sklearn.metrics import classification_report"
      ]
    },
    {
      "cell_type": "markdown",
      "metadata": {
        "id": "eeGJ1MhSbORb"
      },
      "source": [
        "# Create Test and Train Data"
      ]
    },
    {
      "cell_type": "code",
      "execution_count": 3,
      "metadata": {
        "colab": {
          "base_uri": "https://localhost:8080/",
          "height": 206
        },
        "id": "737RrzMgbN4u",
        "outputId": "15179b81-8890-44ed-ae9a-73c016620b78"
      },
      "outputs": [
        {
          "data": {
            "text/html": [
              "<div>\n",
              "<style scoped>\n",
              "    .dataframe tbody tr th:only-of-type {\n",
              "        vertical-align: middle;\n",
              "    }\n",
              "\n",
              "    .dataframe tbody tr th {\n",
              "        vertical-align: top;\n",
              "    }\n",
              "\n",
              "    .dataframe thead th {\n",
              "        text-align: right;\n",
              "    }\n",
              "</style>\n",
              "<table border=\"1\" class=\"dataframe\">\n",
              "  <thead>\n",
              "    <tr style=\"text-align: right;\">\n",
              "      <th></th>\n",
              "      <th>match</th>\n",
              "      <th>image_tag</th>\n",
              "      <th>pos</th>\n",
              "      <th>point_x</th>\n",
              "      <th>point_y</th>\n",
              "      <th>size</th>\n",
              "      <th>angle</th>\n",
              "      <th>response</th>\n",
              "      <th>octave</th>\n",
              "      <th>blur</th>\n",
              "    </tr>\n",
              "  </thead>\n",
              "  <tbody>\n",
              "    <tr>\n",
              "      <th>0</th>\n",
              "      <td>0</td>\n",
              "      <td>S6722S03</td>\n",
              "      <td>right-side</td>\n",
              "      <td>45</td>\n",
              "      <td>111</td>\n",
              "      <td>31.000000</td>\n",
              "      <td>28.460091</td>\n",
              "      <td>0.000393</td>\n",
              "      <td>0</td>\n",
              "      <td>11.132859</td>\n",
              "    </tr>\n",
              "    <tr>\n",
              "      <th>1</th>\n",
              "      <td>0</td>\n",
              "      <td>S6735S09</td>\n",
              "      <td>right-side</td>\n",
              "      <td>53</td>\n",
              "      <td>118</td>\n",
              "      <td>44.640003</td>\n",
              "      <td>8.228042</td>\n",
              "      <td>0.000368</td>\n",
              "      <td>2</td>\n",
              "      <td>19.968516</td>\n",
              "    </tr>\n",
              "    <tr>\n",
              "      <th>2</th>\n",
              "      <td>0</td>\n",
              "      <td>S6722S03</td>\n",
              "      <td>left-side</td>\n",
              "      <td>46</td>\n",
              "      <td>131</td>\n",
              "      <td>44.640003</td>\n",
              "      <td>169.835007</td>\n",
              "      <td>0.000731</td>\n",
              "      <td>2</td>\n",
              "      <td>11.132859</td>\n",
              "    </tr>\n",
              "    <tr>\n",
              "      <th>3</th>\n",
              "      <td>0</td>\n",
              "      <td>S6735S09</td>\n",
              "      <td>left-side</td>\n",
              "      <td>42</td>\n",
              "      <td>75</td>\n",
              "      <td>37.200001</td>\n",
              "      <td>2.890326</td>\n",
              "      <td>0.000027</td>\n",
              "      <td>1</td>\n",
              "      <td>19.968516</td>\n",
              "    </tr>\n",
              "    <tr>\n",
              "      <th>4</th>\n",
              "      <td>0</td>\n",
              "      <td>S6722S03</td>\n",
              "      <td>left-side</td>\n",
              "      <td>32</td>\n",
              "      <td>74</td>\n",
              "      <td>31.000000</td>\n",
              "      <td>215.737335</td>\n",
              "      <td>0.000347</td>\n",
              "      <td>0</td>\n",
              "      <td>11.132859</td>\n",
              "    </tr>\n",
              "  </tbody>\n",
              "</table>\n",
              "</div>"
            ],
            "text/plain": [
              "   match image_tag         pos  point_x  point_y       size       angle  \\\n",
              "0      0  S6722S03  right-side       45      111  31.000000   28.460091   \n",
              "1      0  S6735S09  right-side       53      118  44.640003    8.228042   \n",
              "2      0  S6722S03   left-side       46      131  44.640003  169.835007   \n",
              "3      0  S6735S09   left-side       42       75  37.200001    2.890326   \n",
              "4      0  S6722S03   left-side       32       74  31.000000  215.737335   \n",
              "\n",
              "   response  octave       blur  \n",
              "0  0.000393       0  11.132859  \n",
              "1  0.000368       2  19.968516  \n",
              "2  0.000731       2  11.132859  \n",
              "3  0.000027       1  19.968516  \n",
              "4  0.000347       0  11.132859  "
            ]
          },
          "execution_count": 3,
          "metadata": {},
          "output_type": "execute_result"
        }
      ],
      "source": [
        "url = 'https://raw.githubusercontent.com/elymsyr/iris-recognition/main/Database/kp_classify_blur.csv'\n",
        "\n",
        "df = pd.read_csv(url)\n",
        "\n",
        "# df = pd.read_csv('kp_classify_blur.csv')\n",
        "df.head()"
      ]
    },
    {
      "cell_type": "code",
      "execution_count": 4,
      "metadata": {
        "id": "IQ0wdG87bV0l"
      },
      "outputs": [],
      "source": [
        "# dividing the datasets into two parts i.e. training datasets and test datasets\n",
        "mapping = {'right-side': 0, 'left-side': 1, 'bottom': 2, 'complete': 3}\n",
        "df['pos'] = df['pos'].map(mapping)\n",
        "\n",
        "# df = df.sample(n=400000, random_state=42).reset_index(drop=True)\n",
        "df = df.drop(['octave'], axis=1)"
      ]
    },
    {
      "cell_type": "code",
      "execution_count": 6,
      "metadata": {},
      "outputs": [
        {
          "data": {
            "text/plain": [
              "(813156, 9)"
            ]
          },
          "execution_count": 6,
          "metadata": {},
          "output_type": "execute_result"
        }
      ],
      "source": [
        "df.shape"
      ]
    },
    {
      "cell_type": "code",
      "execution_count": 5,
      "metadata": {
        "id": "CWQeu24KbWpn"
      },
      "outputs": [],
      "source": [
        "# Separate majority and minority classes\n",
        "df_class_0 = df[df['match'] == 0]\n",
        "df_class_1 = df[df['match'] == 1]\n",
        "\n",
        "# Determine the number of samples to keep\n",
        "n_samples = min(len(df_class_0), len(df_class_1))\n",
        "\n",
        "# Undersample the majority class\n",
        "df_class_0_balanced = df_class_0.sample(n=n_samples, random_state=42)\n",
        "df_class_1_balanced = df_class_1.sample(n=n_samples, random_state=42)\n",
        "\n",
        "# Combine the balanced classes\n",
        "df_balanced = pd.concat([df_class_0_balanced, df_class_1_balanced])\n",
        "\n",
        "# Shuffle the data\n",
        "df = df_balanced.sample(frac=1, random_state=42).reset_index(drop=True)"
      ]
    },
    {
      "cell_type": "code",
      "execution_count": null,
      "metadata": {
        "colab": {
          "base_uri": "https://localhost:8080/"
        },
        "id": "CXQfWPdDbYWj",
        "outputId": "aec88586-05ef-438f-967a-0b38f2865536"
      },
      "outputs": [],
      "source": [
        "print(df['match'].value_counts())"
      ]
    },
    {
      "cell_type": "code",
      "execution_count": null,
      "metadata": {
        "id": "QakzsxAfbZGR"
      },
      "outputs": [],
      "source": [
        "y = df['match']\n",
        "X = df.drop(labels=['match', 'image_tag'], axis=1)\n",
        "\n",
        "print(y[:2])\n",
        "print(X[:2])"
      ]
    },
    {
      "cell_type": "code",
      "execution_count": 8,
      "metadata": {
        "id": "G7x0uYpabZxe"
      },
      "outputs": [],
      "source": [
        "X_train, X_test, y_train, y_test = train_test_split(X, y, test_size = 0.15)"
      ]
    },
    {
      "cell_type": "markdown",
      "metadata": {
        "id": "RIIEpxZ7baMP"
      },
      "source": [
        " # Functions"
      ]
    },
    {
      "cell_type": "code",
      "execution_count": 9,
      "metadata": {
        "id": "r7YVaXnIbZsA"
      },
      "outputs": [],
      "source": [
        "def RandomForest(X_train, X_test, y_train, y_test, parameters = {'n_estimators': 100,\n",
        "                                     'max_depth': None,\n",
        "                                     'max_features': 'sqrt',\n",
        "                                     'criterion': 'gini',\n",
        "                                     'bootstrap': True,\n",
        "                                     'class_weight' : \"balanced\",\n",
        "                                     'max_samples': None\n",
        "                                     }):\n",
        "    clf = RandomForestClassifier(n_estimators = 100)\n",
        "    clf.fit(X_train, y_train)\n",
        "    y_pred = clf.predict(X_test)\n",
        "\n",
        "    # using metrics module for accuracy calculation\n",
        "    accuracy = metrics.accuracy_score(y_test, y_pred)\n",
        "    feature_imp = pd.Series(clf.feature_importances_, index = X.keys()).sort_values(ascending = False)\n",
        "    return accuracy, feature_imp, clf"
      ]
    },
    {
      "cell_type": "code",
      "execution_count": 10,
      "metadata": {
        "id": "z2EAY5nDbdGt"
      },
      "outputs": [],
      "source": [
        "def XGBoost(X_train, X_test, y_train, y_test, model_path='xgboost_model.json', threshold: float = 0.5, params: dict = { 'objective': 'binary:logistic', 'eval_metric': 'auc', 'eta': 0.1, 'max_depth': 10, 'min_child_weight': 1, 'subsample': 0.8, 'colsample_bytree': 0.8, 'lambda': 1, 'alpha': 0, 'seed': 4 }):\n",
        "    # Initialize MinMaxScaler\n",
        "    scaler = MinMaxScaler(feature_range=(0,1))\n",
        "\n",
        "    # Fit and transform the training data, transform the test data\n",
        "    X_train_scaled = scaler.fit_transform(X_train)\n",
        "    X_test_scaled = scaler.transform(X_test)\n",
        "\n",
        "    # Convert scaled data to DMatrix format (optimized for XGBoost)\n",
        "    dtrain = xgb.DMatrix(X_train_scaled, label=y_train)\n",
        "    dtest = xgb.DMatrix(X_test_scaled, label=y_test)\n",
        "\n",
        "    # Train the model\n",
        "    bst = xgb.train(params, dtrain, num_boost_round=10000, evals=[(dtest, 'test')], early_stopping_rounds=100, verbose_eval=10)\n",
        "\n",
        "    # Predict\n",
        "    y_pred = bst.predict(dtest)\n",
        "    predictions = [1 if x > threshold else 0 for x in y_pred]\n",
        "\n",
        "    # Evaluate the model\n",
        "    accuracy = accuracy_score(y_test, predictions)\n",
        "    auc = roc_auc_score(y_test, y_pred)\n",
        "\n",
        "    # Print evaluation metrics\n",
        "    print(f'Accuracy: {accuracy:.4f}')\n",
        "    print(f'AUC: {auc:.4f}')\n",
        "\n",
        "    # Save the model\n",
        "    bst.save_model(model_path)\n",
        "\n",
        "    # Return the model and metrics\n",
        "    return bst, accuracy, auc, y_pred, predictions, dtrain, dtest\n"
      ]
    },
    {
      "cell_type": "markdown",
      "metadata": {
        "id": "Y-1xtxWibeGI"
      },
      "source": [
        "# Train Model"
      ]
    },
    {
      "cell_type": "code",
      "execution_count": 11,
      "metadata": {
        "id": "T14JllgxcEv7"
      },
      "outputs": [],
      "source": [
        "params = {\n",
        "    'objective': 'binary:logistic',  # Binary classification\n",
        "    'eval_metric': 'auc',  # Evaluation metric, AUC is a common choice\n",
        "    'eta': 0.1,  # Learning rate\n",
        "    'max_depth': 12,  # Maximum depth of a tree\n",
        "    'min_child_weight': 0,  # Minimum sum of instance weight (hessian) needed in a child\n",
        "    'subsample': 0.8,  # Subsample ratio of the training instances\n",
        "    'colsample_bytree': 0.8,  # Subsample ratio of columns when constructing each tree\n",
        "    'lambda': 1,  # L2 regularization term on weights\n",
        "    'alpha': 0,  # L1 regularization term on weights\n",
        "    'seed': 42,  # Random seed for reproducibility\n",
        "    'gamma': 0,\n",
        "    'scale_pos_weight': 1\n",
        "}\n",
        "\n",
        "threshold=0.5"
      ]
    },
    {
      "cell_type": "code",
      "execution_count": null,
      "metadata": {
        "colab": {
          "base_uri": "https://localhost:8080/"
        },
        "id": "nRwBOEeXbhH6",
        "outputId": "07bc9a19-4b0e-4e60-e89b-3fc6aba1662c"
      },
      "outputs": [],
      "source": [
        "bst, accuracy, auc, y_pred, predictions, dtrain, dtest = XGBoost(X_train, X_test, y_train, y_test, threshold=threshold, params=params)"
      ]
    },
    {
      "cell_type": "code",
      "execution_count": null,
      "metadata": {
        "colab": {
          "base_uri": "https://localhost:8080/",
          "height": 646
        },
        "id": "0O6fxyZEbiDz",
        "outputId": "cf642e37-a9c4-4bfc-a893-40564b028c79"
      },
      "outputs": [],
      "source": [
        "print(accuracy, auc)\n",
        "conf_matrix = confusion_matrix(y_test, predictions)\n",
        "disp = ConfusionMatrixDisplay(confusion_matrix=conf_matrix)\n",
        "disp.plot(cmap=plt.cm.Blues)\n",
        "plt.title(\"Confusion Matrix\")\n",
        "plt.show()\n",
        "print(classification_report(y_test, predictions))"
      ]
    },
    {
      "cell_type": "code",
      "execution_count": null,
      "metadata": {
        "colab": {
          "base_uri": "https://localhost:8080/",
          "height": 472
        },
        "id": "k8Q7iqkBbluC",
        "outputId": "3f6dd1f8-c5b0-413e-a4a8-a5667df10225"
      },
      "outputs": [],
      "source": [
        "plot_importance(bst)\n",
        "plt.show()"
      ]
    },
    {
      "cell_type": "markdown",
      "metadata": {
        "id": "ATh_n6BFbsmY"
      },
      "source": [
        "# Grid Search"
      ]
    },
    {
      "cell_type": "code",
      "execution_count": null,
      "metadata": {
        "colab": {
          "base_uri": "https://localhost:8080/"
        },
        "id": "1ZPDCX1qbtfV",
        "outputId": "42fa4cfc-5eb0-49e7-86c5-f9e258ce52b9"
      },
      "outputs": [],
      "source": [
        "from sklearn.model_selection import GridSearchCV\n",
        "from xgboost import XGBClassifier\n",
        "\n",
        "# Define the model\n",
        "model = XGBClassifier(eval_metric='auc')\n",
        "\n",
        "param_grid = {\n",
        "    'objective': ['binary:logistic'],  # Keeping it for binary classification\n",
        "    'eval_metric': ['auc'],  # AUC is a common evaluation metric\n",
        "    'learning_rate': [0.1],  # Learning rate (eta), typically small\n",
        "    'max_depth': [None, 12],  # Depth of trees; small to moderate values to prevent overfitting\n",
        "    'min_child_weight': [1, 3],  # Minimum sum of instance weight needed in a child; values to regularize\n",
        "    # 'subsample': [0.6, 0.8, 1.0],  # Subsample ratio of the training instances; controlling overfitting\n",
        "    # 'colsample_bytree': [0.6, 0.8, 1.0],  # Subsample ratio of columns when constructing each tree\n",
        "    'gamma': [0, 0.5, 1.0],  # Minimum loss reduction required to make a further partition\n",
        "    # 'reg_lambda': [1, 10, 100],  # L2 regularization term on weights\n",
        "    # 'reg_alpha': [0, 0.1, 1],  # L1 regularization term on weights\n",
        "    'n_estimators': [200, 300],  # Number of trees to fit; affects model complexity\n",
        "    'scale_pos_weight': [2],  # Balances positive and negative weights in unbalanced datasets\n",
        "    'seed': [42]  # Random seed for reproducibility\n",
        "}\n",
        "\n",
        "# Grid Search\n",
        "grid_search = GridSearchCV(model, param_grid, cv=3, scoring='roc_auc', verbose=2, n_jobs=-1)\n",
        "grid_search.fit(X_train, y_train)\n",
        "\n",
        "# Best parameters\n",
        "print(f\"Best parameters found: {grid_search.best_params_}\")"
      ]
    },
    {
      "cell_type": "code",
      "execution_count": null,
      "metadata": {
        "id": "UaRG7Eurfj_C"
      },
      "outputs": [],
      "source": [
        "print(f\"Best ROC AUC score: {grid_search.best_score_:.4f}\")\n",
        "\n",
        "# Access the full results in a DataFrame\n",
        "results_df = pd.DataFrame(grid_search.cv_results_)\n",
        "\n",
        "# Display the top 5 results sorted by mean test score\n",
        "print(\"Top 5 parameter combinations:\")\n",
        "print(results_df[['mean_test_score', 'std_test_score', 'rank_test_score', 'mean_score_time']].sort_values(by='mean_test_score', ascending=False).head())\n",
        "# print(results_df[['params']])\n",
        "\n",
        "# Additional details: display all columns available\n",
        "# print(\"\\nColumns available in cv_results_:\\n\", results_df.columns)"
      ]
    }
  ],
  "metadata": {
    "colab": {
      "collapsed_sections": [
        "M9c-JVxQbKBQ",
        "eeGJ1MhSbORb",
        "RIIEpxZ7baMP"
      ],
      "provenance": [],
      "toc_visible": true
    },
    "kernelspec": {
      "display_name": "Python 3",
      "name": "python3"
    },
    "language_info": {
      "codemirror_mode": {
        "name": "ipython",
        "version": 3
      },
      "file_extension": ".py",
      "mimetype": "text/x-python",
      "name": "python",
      "nbconvert_exporter": "python",
      "pygments_lexer": "ipython3",
      "version": "3.9.19"
    }
  },
  "nbformat": 4,
  "nbformat_minor": 0
}
